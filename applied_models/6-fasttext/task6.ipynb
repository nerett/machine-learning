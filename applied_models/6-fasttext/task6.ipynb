{
  "cells": [
    {
      "cell_type": "code",
      "execution_count": 1,
      "metadata": {
        "colab": {
          "base_uri": "https://localhost:8080/"
        },
        "collapsed": true,
        "id": "AtvovIKTK5gm",
        "outputId": "a49969e3-7c00-45ab-de82-921da7a297f8"
      },
      "outputs": [
        {
          "data": {
            "text/plain": [
              "True"
            ]
          },
          "execution_count": 1,
          "metadata": {},
          "output_type": "execute_result"
        }
      ],
      "source": [
        "# !wget get https://dl.fbaipublicfiles.com/fasttext/vectors-crawl/cc.ru.300.bin.gz\n",
        "import torch\n",
        "torch.cuda.is_available()\n"
      ]
    },
    {
      "cell_type": "code",
      "execution_count": null,
      "metadata": {
        "colab": {
          "base_uri": "https://localhost:8080/"
        },
        "collapsed": true,
        "id": "k7KRpGjALnh4",
        "outputId": "25cae51d-55be-4f21-936f-02c8a82d6e5f"
      },
      "outputs": [],
      "source": [
        "# !git clone https://github.com/facebookresearch/fastText.git\n",
        "# %cd fastText\n",
        "# !pip install .\n",
        "# !cp fasttext ../\n",
        "# %cd ..\n"
      ]
    },
    {
      "cell_type": "code",
      "execution_count": 3,
      "metadata": {
        "id": "tvUvyJcFK-_T"
      },
      "outputs": [],
      "source": [
        "import fasttext\n",
        "# !gunzip cc.ru.300.bin.gz\n"
      ]
    },
    {
      "cell_type": "code",
      "execution_count": 6,
      "metadata": {
        "id": "DaNqCf8kLVrT"
      },
      "outputs": [],
      "source": [
        "ft = fasttext.load_model('cc.ru.300.bin')\n"
      ]
    },
    {
      "cell_type": "code",
      "execution_count": 8,
      "metadata": {
        "id": "smx30lNoNUgq"
      },
      "outputs": [
        {
          "data": {
            "text/plain": [
              "300"
            ]
          },
          "execution_count": 8,
          "metadata": {},
          "output_type": "execute_result"
        }
      ],
      "source": [
        "# fasttext.util.reduce_model(ft, 100)\n",
        "ft.get_dimension()\n"
      ]
    },
    {
      "cell_type": "code",
      "execution_count": 9,
      "metadata": {},
      "outputs": [],
      "source": [
        "# ft.save_model('cc.ru.100.bin')\n"
      ]
    },
    {
      "cell_type": "code",
      "execution_count": 12,
      "metadata": {
        "id": "1T-bidnkN_iU"
      },
      "outputs": [],
      "source": [
        "import fasttext\n",
        "import numpy as np\n",
        "import torch\n",
        "\n",
        "from sklearn.metrics import classification_report\n",
        "from torch.utils.tensorboard import SummaryWriter\n",
        "from tqdm.notebook import tqdm\n"
      ]
    },
    {
      "cell_type": "code",
      "execution_count": 13,
      "metadata": {
        "id": "MKNA33FcNWIH"
      },
      "outputs": [],
      "source": [
        "# not used\n",
        "# class TokenizerFastText(object):\n",
        "#     def __init__(self, ft, tokenizer):\n",
        "#         self.ft = ft\n",
        "#         self.tokenizer = tokenizer\n",
        "#     def __call__(self, sentences, max_length = 10, pad_to_max_length = False):\n",
        "#         tokens = self.tokenizer.tokenize_sents(sentences)\n",
        "#         if not pad_to_max_length:\n",
        "#             max_length = min(max_length, max(map(len, tokens)))\n",
        "#         tokens = [['[CLS]']+s+['[SEP]'] + ['[PAD]']*(max_length-len(s)) \\\n",
        "#                   if len(s) < max_length \\\n",
        "#                   else ['[CLS]']+s[:max_length]+['[SEP]'] \\\n",
        "#                   for s in tokens ]\n",
        "#         vectors = [[self.ft.get_word_vector(w) for w in sent] for sent in tokens]\n",
        "#         return torch.tensor(vectors)\n"
      ]
    },
    {
      "cell_type": "code",
      "execution_count": 14,
      "metadata": {
        "colab": {
          "base_uri": "https://localhost:8080/",
          "height": 36
        },
        "id": "jaPodOUBOOfz",
        "outputId": "b15580d3-1561-4570-aad9-1edfea991dbe"
      },
      "outputs": [
        {
          "data": {
            "text/plain": [
              "'cuda'"
            ]
          },
          "execution_count": 14,
          "metadata": {},
          "output_type": "execute_result"
        }
      ],
      "source": [
        "device = 'cuda' if torch.cuda.is_available() else 'cpu'\n",
        "device\n"
      ]
    },
    {
      "cell_type": "code",
      "execution_count": 16,
      "metadata": {
        "colab": {
          "base_uri": "https://localhost:8080/"
        },
        "id": "Yd3cGq-2Owr4",
        "outputId": "f4e7041d-79fd-461a-f5a0-41249b5e8461"
      },
      "outputs": [
        {
          "name": "stdout",
          "output_type": "stream",
          "text": [
            "Defaulting to user installation because normal site-packages is not writeable\n",
            "Requirement already satisfied: nerus in /home/user/.local/lib/python3.10/site-packages (1.7.0)\n"
          ]
        }
      ],
      "source": [
        "import warnings\n",
        "warnings.filterwarnings(\"ignore\")\n",
        "!pip install nerus\n"
      ]
    },
    {
      "cell_type": "code",
      "execution_count": 18,
      "metadata": {
        "id": "g8gUw9qxyWCg"
      },
      "outputs": [],
      "source": [
        "import nerus as ns\n",
        "from transformers import AutoTokenizer\n",
        "from transformers import AutoModel\n",
        "\n",
        "MAX_SENTENCE_LENGTH = 50\n",
        "\n",
        "class NerusTokenizer:\n",
        "    ids_to_word: dict\n",
        "    word_next_id: int = 0\n",
        "    tag_to_id: dict\n",
        "    lstm_tokens: list[str] = [\"[PAD]\", \"[CLS]\", \"[SEP]\", \"[UNK]\"]\n",
        "    def __init__(self, ft):\n",
        "        self.tag_to_id = {}\n",
        "        self.ids_to_word = {}\n",
        "        for sys_id, sys_tag in enumerate(self.lstm_tokens):\n",
        "            self.ids_to_word[sys_id] = sys_tag\n",
        "            self.tag_to_id[sys_tag] = sys_id\n",
        "        self.word_next_id = self.lstm_tokens.__len__()\n",
        "        self.ft = ft\n",
        "\n",
        "                                                                      # tokenized sentences   # tags strings\n",
        "    def tokenize_sent_pos_tagging(self, sents: list[ns.NerusSent]) -> tuple[list[list[int]], list[list[str]]]:\n",
        "        sentences_ids = []\n",
        "        pos_tags_txts = []\n",
        "\n",
        "        for sent in sents:\n",
        "            sentence_id = [self.ft.get_word_vector(\"[CLS]\")]\n",
        "            pos_tag_txt = [\"[CLS]\"]\n",
        "            for token in sent.tokens:\n",
        "                word_text = token.text\n",
        "                pos_tag   = token.tag\n",
        "\n",
        "                word_id = self.ft.get_word_vector(word_text)\n",
        "                sentence_id.append(word_id)\n",
        "                pos_tag_txt.append(pos_tag)\n",
        "\n",
        "            assert sentence_id.__len__() == pos_tag_txt.__len__()\n",
        "\n",
        "            # separating and padding\n",
        "            pad_id = self.ft.get_word_vector(\"[PAD]\")\n",
        "            sep_id = self.ft.get_word_vector(\"[SEP]\")\n",
        "\n",
        "            if len(sentence_id) < MAX_SENTENCE_LENGTH:\n",
        "                sentence_id.append(sep_id)\n",
        "                sentence_id.extend([pad_id]  * (MAX_SENTENCE_LENGTH - len(sentence_id)))\n",
        "                pos_tag_txt.append(\"[SEP]\")\n",
        "                pos_tag_txt.extend([\"[PAD]\"] * (MAX_SENTENCE_LENGTH - len(pos_tag_txt)))\n",
        "            else:\n",
        "                sentence_id = sentence_id[:MAX_SENTENCE_LENGTH]\n",
        "                sentence_id[-1] = sep_id\n",
        "                pos_tag_txt = pos_tag_txt[:MAX_SENTENCE_LENGTH]\n",
        "                pos_tag_txt[-1] = \"[SEP]\"\n",
        "\n",
        "            assert sentence_id.__len__() == pos_tag_txt.__len__()\n",
        "\n",
        "            sentences_ids.append(sentence_id)\n",
        "            pos_tags_txts.append(pos_tag_txt)\n",
        "\n",
        "        return sentences_ids, pos_tags_txts\n",
        "\n",
        "    def expand_pos_tagging_vocab(self, sents: ns.NerusSent):\n",
        "        new_tags = set()\n",
        "        for sent in sents:\n",
        "            for token in sent.tokens:\n",
        "                new_tags.add(token.tag)\n",
        "        new_tags = [tag for tag in new_tags if tag not in self.tag_to_id.keys()]\n",
        "        for tag in new_tags:\n",
        "            self.tag_to_id[tag] = self.tag_to_id.__len__()\n",
        "            self.ids_to_word[self.tag_to_id[tag]] = tag\n",
        "\n",
        "    def tokenize_pos_tags(self, text_tags: list[list[str]]) -> list[list[int]]:\n",
        "        tags_id = []\n",
        "        for sent_tags in text_tags:\n",
        "            sent_tags_id = []\n",
        "            for tag in sent_tags:\n",
        "                if tag not in self.tag_to_id.keys():\n",
        "                    msg = f\"Bad tag when put ids on tags; TAG: {tag}\"\n",
        "                    raise RuntimeError(msg)\n",
        "                sent_tags_id.append(self.tag_to_id[tag])\n",
        "            tags_id.append(sent_tags_id)\n",
        "\n",
        "        return tags_id\n"
      ]
    },
    {
      "cell_type": "code",
      "execution_count": 19,
      "metadata": {
        "id": "42sfpReW0Tlf"
      },
      "outputs": [],
      "source": [
        "def train_on_batch(model, x_batch, y_batch, optimizer, loss_function):\n",
        "    model.train()\n",
        "    optimizer.zero_grad()\n",
        "\n",
        "    output = model(x_batch.to(device))\n",
        "\n",
        "    # need to adjust output sizes to evaluate loss_function on batch\n",
        "    output  = output.reshape(-1, output.shape[2])\n",
        "    y_batch = y_batch.reshape(-1)\n",
        "\n",
        "    loss = loss_function(output, y_batch.to(model.device))\n",
        "    loss.backward()\n",
        "\n",
        "    optimizer.step()\n",
        "    return loss.cpu().item()\n"
      ]
    },
    {
      "cell_type": "code",
      "execution_count": 20,
      "metadata": {
        "id": "oTCHOrTX0UBN"
      },
      "outputs": [],
      "source": [
        "\n",
        "def train_epoch(generator, model, loss_function, optimizer, callback = None):\n",
        "    epoch_loss = 0\n",
        "    total = 0\n",
        "    for batch_of_x, batch_of_y in generator:\n",
        "\n",
        "        batch_loss = train_on_batch(model, batch_of_x, batch_of_y, optimizer, loss_function)\n",
        "\n",
        "        if callback is not None:\n",
        "            with torch.no_grad():\n",
        "                callback(model, batch_loss)\n",
        "\n",
        "        epoch_loss += batch_loss*len(batch_of_x)\n",
        "        total += len(batch_of_x)\n",
        "\n",
        "    return epoch_loss/total\n"
      ]
    },
    {
      "cell_type": "code",
      "execution_count": 21,
      "metadata": {
        "id": "KzF--LBv0WQs"
      },
      "outputs": [],
      "source": [
        "def trainer(count_of_epoch,\n",
        "            batch_size,\n",
        "            dataset,\n",
        "            model,\n",
        "            loss_function,\n",
        "            optimizer,\n",
        "            lr = 0.001,\n",
        "            callback = None):\n",
        "\n",
        "    optima = optimizer(model.parameters(), lr=lr)\n",
        "\n",
        "    iterations = tqdm(range(count_of_epoch), desc='epoch', leave=False)\n",
        "    iterations.set_postfix({'train epoch loss': np.nan})\n",
        "    for it in iterations:\n",
        "        batch_generator = tqdm(\n",
        "            torch.utils.data.DataLoader(dataset=dataset,\n",
        "                                        batch_size=batch_size,\n",
        "                                        shuffle=True, pin_memory=True),\n",
        "            leave=False, total=len(dataset)//batch_size+(len(dataset)%batch_size>0))\n",
        "        epoch_loss = train_epoch (\n",
        "                    generator=batch_generator,\n",
        "                    model=model,\n",
        "                    loss_function=loss_function,\n",
        "                    optimizer=optima,\n",
        "                    callback=callback)\n",
        "\n",
        "        iterations.set_postfix({'train epoch loss': epoch_loss})\n"
      ]
    },
    {
      "cell_type": "code",
      "execution_count": 22,
      "metadata": {
        "id": "PVG2C2lE0chG"
      },
      "outputs": [],
      "source": [
        "def evaluate_model_score(model, dataset, batch_size: int, loss_function, device = 'cpu'):\n",
        "    batch_generator = torch.utils.data.DataLoader(dataset, batch_size=batch_size, pin_memory=True)\n",
        "\n",
        "    pred = []\n",
        "    real = []\n",
        "    test_loss = 0\n",
        "    total_samples = 0\n",
        "\n",
        "    for x_batch, y_batch in batch_generator:\n",
        "        output = model(x_batch.to(device))\n",
        "\n",
        "        output_loss  = output.reshape(-1, output.shape[2])\n",
        "        y_batch = y_batch.reshape(-1)\n",
        "\n",
        "        #evaluate loss on batch\n",
        "        batch_loss = loss_function(output_loss, y_batch.to(model.device))\n",
        "        test_loss += batch_loss.cpu().item() * len(x_batch)\n",
        "        total_samples += len(x_batch)\n",
        "\n",
        "        # add prediction results for classification report\n",
        "        output_report = torch.argmax(output, -1)\n",
        "        pred.extend(torch.reshape(output_report, (-1,)).cpu().numpy())\n",
        "        real.extend(y_batch.cpu().numpy())\n",
        "\n",
        "    pred = np.array(pred)\n",
        "    real = np.array(real)\n",
        "\n",
        "    # need to mask and remove from real tags PAD, CLS, SEP, they are needed only to support LSTM architecture\n",
        "    mask = np.isin(real, [0, 1, 2], invert=True)\n",
        "    return classification_report(real[mask], pred[mask]), test_loss / total_samples\n"
      ]
    },
    {
      "cell_type": "code",
      "execution_count": 15,
      "metadata": {
        "colab": {
          "base_uri": "https://localhost:8080/"
        },
        "id": "3sRQhdB-0ttP",
        "outputId": "598ab143-5b3b-4c6d-d43d-6eb51483b02f"
      },
      "outputs": [
        {
          "name": "stdout",
          "output_type": "stream",
          "text": [
            "--2025-04-21 02:01:49--  https://storage.yandexcloud.net/natasha-nerus/data/nerus_lenta.conllu.gz\n",
            "Resolving storage.yandexcloud.net (storage.yandexcloud.net)... 213.180.193.243, 2a02:6b8::1d9\n",
            "Connecting to storage.yandexcloud.net (storage.yandexcloud.net)|213.180.193.243|:443... connected.\n",
            "HTTP request sent, awaiting response... 200 OK\n",
            "Length: 1961465886 (1.8G) [application/octet-stream]\n",
            "Saving to: ‘nerus_lenta.conllu.gz.4’\n",
            "\n",
            "nerus_lenta.conllu. 100%[===================>]   1.83G  8.88MB/s    in 3m 40s  \n",
            "\n",
            "2025-04-21 02:05:31 (8.49 MB/s) - ‘nerus_lenta.conllu.gz.4’ saved [1961465886/1961465886]\n",
            "\n"
          ]
        }
      ],
      "source": [
        "# !wget https://storage.yandexcloud.net/natasha-nerus/data/nerus_lenta.conllu.gz\n"
      ]
    },
    {
      "cell_type": "code",
      "execution_count": 56,
      "metadata": {
        "id": "g97iGfxA0fAE"
      },
      "outputs": [],
      "source": [
        "from itertools import islice as head\n",
        "from nerus import load_nerus\n",
        "\n",
        "MAX_SAMPLES = 1000\n",
        "\n",
        "dataset = head(load_nerus(\"nerus_lenta.conllu.gz\"), MAX_SAMPLES)\n"
      ]
    },
    {
      "cell_type": "code",
      "execution_count": 57,
      "metadata": {
        "colab": {
          "base_uri": "https://localhost:8080/"
        },
        "id": "C2_os8RO0gpg",
        "outputId": "8edfeb2c-6d99-452d-97b7-21bbd20baedb"
      },
      "outputs": [
        {
          "name": "stdout",
          "output_type": "stream",
          "text": [
            "['Вице-премьер', 'по', 'социальным', 'вопросам', 'Татьяна', 'Голикова', 'рассказала', ',', 'в', 'каких', 'регионах', 'России', 'зафиксирована', 'наиболее', 'высокая', 'смертность', 'от', 'рака', ',', 'сообщает', 'РИА', 'Новости', '.']\n",
            "[('1', 'Вице-премьер', 'O'),\n",
            " ('2', 'по', 'O'),\n",
            " ('3', 'социальным', 'O'),\n",
            " ('4', 'вопросам', 'O'),\n",
            " ('5', 'Татьяна', 'B-PER'),\n",
            " ('6', 'Голикова', 'I-PER'),\n",
            " ('7', 'рассказала', 'O'),\n",
            " ('8', ',', 'O'),\n",
            " ('9', 'в', 'O'),\n",
            " ('10', 'каких', 'O'),\n",
            " ('11', 'регионах', 'O'),\n",
            " ('12', 'России', 'B-LOC'),\n",
            " ('13', 'зафиксирована', 'O'),\n",
            " ('14', 'наиболее', 'O'),\n",
            " ('15', 'высокая', 'O'),\n",
            " ('16', 'смертность', 'O'),\n",
            " ('17', 'от', 'O'),\n",
            " ('18', 'рака', 'O'),\n",
            " ('19', ',', 'O'),\n",
            " ('20', 'сообщает', 'O'),\n",
            " ('21', 'РИА', 'B-ORG'),\n",
            " ('22', 'Новости', 'I-ORG'),\n",
            " ('23', '.', 'O')]\n"
          ]
        }
      ],
      "source": [
        "from pprint import pprint\n",
        "for i, sample in enumerate(dataset):\n",
        "    for sent in sample.sents:\n",
        "        print([i.text for i in sent.tokens])\n",
        "        pprint([(i.id, i.text, i.tag) for i in sent.tokens])\n",
        "        break\n",
        "    break\n"
      ]
    },
    {
      "cell_type": "code",
      "execution_count": 31,
      "metadata": {
        "colab": {
          "base_uri": "https://localhost:8080/"
        },
        "id": "LqyZ32Ac0klj",
        "outputId": "f4afcee4-f9ad-4c53-ebbd-011d6aac7d10"
      },
      "outputs": [
        {
          "name": "stdout",
          "output_type": "stream",
          "text": [
            "{'[PAD]': 0, '[CLS]': 1, '[SEP]': 2, '[UNK]': 3, 'B-LOC': 4, 'O': 5, 'I-PER': 6, 'B-PER': 7, 'B-ORG': 8, 'I-ORG': 9, 'I-LOC': 10}\n",
            "{0: '[PAD]', 1: '[CLS]', 2: '[SEP]', 3: '[UNK]', 4: 'B-LOC', 5: 'O', 6: 'I-PER', 7: 'B-PER', 8: 'B-ORG', 9: 'I-ORG', 10: 'I-LOC'}\n",
            "{0: '[PAD]', 1: '[CLS]', 2: '[SEP]', 3: '[UNK]', 4: 'B-LOC', 5: 'O', 6: 'I-PER', 7: 'B-PER', 8: 'B-ORG', 9: 'I-ORG', 10: 'I-LOC'}\n",
            "{'[PAD]': 0, '[CLS]': 1, '[SEP]': 2, '[UNK]': 3, 'B-LOC': 4, 'O': 5, 'I-PER': 6, 'B-PER': 7, 'B-ORG': 8, 'I-ORG': 9, 'I-LOC': 10}\n",
            "Tokenized: [ 0.04495002 -0.00612148  0.0189565  -0.00339077 -0.03292686  0.08229555\n",
            "  0.05068677  0.0485021   0.04732766 -0.03630793 -0.01181982 -0.03532731\n",
            "  0.01627408  0.01166721  0.14996576  0.02862255 -0.03039438 -0.05383234\n",
            "  0.06767236 -0.06728604 -0.06970047  0.04501471 -0.0427916   0.0008449\n",
            "  0.0287628   0.07793065 -0.05218444  0.15594816 -0.09688261 -0.00739052\n",
            "  0.03250176 -0.03479643  0.02306124 -0.03193174  0.13146067  0.11108675\n",
            "  0.02468847  0.00468462 -0.02394797  0.02930171 -0.03577964  0.020386\n",
            " -0.05524475  0.07617241  0.03152741  0.00100201 -0.03230168  0.00398414\n",
            "  0.06969747 -0.02304338  0.10716331 -0.03201208 -0.05827527  0.07545732\n",
            "  0.08233875  0.06127086 -0.12990145 -0.01627246  0.02446334  0.03034036\n",
            "  0.06529608  0.01876128 -0.03159363  0.02999051  0.08227455  0.04232378\n",
            "  0.01862878  0.01281047  0.05250037 -0.02240615 -0.01807809 -0.01961064\n",
            " -0.04971734  0.03834601  0.00477098 -0.08038554 -0.03273173 -0.08311504\n",
            " -0.05964079  0.06509265 -0.04260971  0.02720732 -0.02802753 -0.06922041\n",
            "  0.02171445  0.13355504  0.00892575 -0.048115   -0.03239305 -0.0319275\n",
            " -0.0439757  -0.01676121 -0.10405934  0.03503647 -0.01543542 -0.14566538\n",
            " -0.04765511 -0.00725333 -0.0024258   0.00262719  0.06180824 -0.0660799\n",
            "  0.00545854  0.17246245 -0.0200387   0.08417081 -0.19239269  0.06356491\n",
            "  0.0378917  -0.02667136  0.11860722 -0.04689867 -0.00181811  0.0430227\n",
            " -0.04950827 -0.03138889  0.0652653   0.06826868 -0.09413196  0.16535068\n",
            "  0.02780551 -0.03189733  0.00605814 -0.04519626 -0.02361895 -0.05143925\n",
            " -0.01295345 -0.10810125 -0.05414503  0.07320795 -0.00144852 -0.01204174\n",
            " -0.07846942  0.1016306  -0.00348318  0.10306494  0.04463879  0.03465201\n",
            "  0.03495282  0.00412398  0.01098771  0.04487975  0.09334221 -0.09425249\n",
            "  0.00837159  0.0276828   0.01463307  0.08761039  0.01775825  0.09195074\n",
            " -0.03595123 -0.13249753 -0.13492316  0.09081265 -0.03098621 -0.08303975\n",
            "  0.01168454  0.14526558 -0.01925224  0.03393634 -0.06251644  0.00697144\n",
            " -0.04588373 -0.06134194 -0.0610179   0.03414094  0.05559225 -0.01157912\n",
            " -0.00421161  0.01913857  0.13026059  0.08830217  0.01368343 -0.00552949\n",
            "  0.02486428  0.00381101  0.02113305  0.01830591 -0.06771372  0.03178404\n",
            "  0.03562686  0.02973097 -0.04218676 -0.07117902  0.0491477   0.05186155\n",
            " -0.09581121 -0.00034145  0.05564713 -0.10221656 -0.04105789 -0.10109091\n",
            " -0.02924651 -0.09229994  0.16911452  0.0236302  -0.06466966  0.12639043\n",
            "  0.2012884   0.02498298  0.03938115  0.09210186 -0.07286055  0.02407864\n",
            "  0.00089446  0.01297565 -0.04871998  0.08150503 -0.05679058 -0.0255075\n",
            "  0.02796295  0.05578664  0.06177015 -0.03857636 -0.02470149 -0.06238166\n",
            " -0.0416913   0.01652446  0.06885697 -0.06656748 -0.05719417 -0.03775974\n",
            " -0.02589078 -0.12834738  0.07026069 -0.03886622  0.08729106 -0.01466446\n",
            "  0.00146351 -0.07659575  0.10005539 -0.0278584  -0.00885583 -0.01635213\n",
            " -0.02005867  0.04954561  0.07031079  0.00252099 -0.01129665 -0.15118706\n",
            " -0.02384271 -0.01434529  0.1024987  -0.02894289  0.03619911 -0.04334436\n",
            " -0.02149987  0.05043921 -0.05611483  0.02230595 -0.00129247  0.05741937\n",
            "  0.04441193 -0.0436248   0.04288214  0.03774043 -0.13994431  0.08239202\n",
            " -0.04505158  0.04970504  0.04862364  0.09446025 -0.0007954   0.05952571\n",
            "  0.07235891  0.01958005 -0.02628862  0.00748472 -0.039154   -0.0885987\n",
            " -0.06435065  0.07060303 -0.12364531  0.10313436 -0.04179849 -0.01936973\n",
            "  0.08514139  0.01096035 -0.24690294  0.05568392  0.11395025 -0.0401534\n",
            "  0.0809448   0.03734349 -0.02611495 -0.0158409   0.03561862 -0.0030424\n",
            " -0.13631515 -0.02740838  0.03331029 -0.03759165  0.0026991   0.1099303\n",
            " -0.0527151  -0.01023322  0.02493784  0.08457989  0.02140167 -0.11749645]\n"
          ]
        }
      ],
      "source": [
        "nerus_tokenizer = NerusTokenizer(ft)\n",
        "\n",
        "for sample in dataset:\n",
        "    nerus_tokenizer.expand_pos_tagging_vocab(sample.sents)\n",
        "\n",
        "print(nerus_tokenizer.tag_to_id)\n",
        "print(nerus_tokenizer.ids_to_word)\n",
        "\n",
        "dataset_words_id = []\n",
        "dataset_tags_id = []\n",
        "dataset = head(load_nerus(\"nerus_lenta.conllu.gz\"), MAX_SAMPLES)\n",
        "for i, sample in enumerate(dataset):\n",
        "    words_id, tags = nerus_tokenizer.tokenize_sent_pos_tagging(sample.sents)\n",
        "    tags_id = nerus_tokenizer.tokenize_pos_tags(tags)\n",
        "\n",
        "    dataset_words_id.extend(words_id)\n",
        "    dataset_tags_id.extend(tags_id)\n",
        "\n",
        "print(nerus_tokenizer.ids_to_word)\n",
        "print(nerus_tokenizer.tag_to_id)\n",
        "print(f\"Tokenized: {dataset_words_id[0][0]}\")\n"
      ]
    },
    {
      "cell_type": "code",
      "execution_count": 33,
      "metadata": {
        "colab": {
          "base_uri": "https://localhost:8080/"
        },
        "id": "nn2uFkBB51LJ",
        "outputId": "c34ef411-d7db-4671-d11c-d41d30223ec4"
      },
      "outputs": [
        {
          "name": "stdout",
          "output_type": "stream",
          "text": [
            "{'[PAD]': 0, '[CLS]': 1, '[SEP]': 2, '[UNK]': 3, 'B-LOC': 4, 'O': 5, 'I-PER': 6, 'B-PER': 7, 'B-ORG': 8, 'I-ORG': 9, 'I-LOC': 10}\n"
          ]
        }
      ],
      "source": [
        "print(nerus_tokenizer.tag_to_id)\n",
        "# print(nerus_tokenizer.id_)\n",
        "#print(dataset_tags_id)\n"
      ]
    },
    {
      "cell_type": "code",
      "execution_count": 34,
      "metadata": {
        "id": "24O02t1105YH"
      },
      "outputs": [
        {
          "name": "stdout",
          "output_type": "stream",
          "text": [
            "torch.Size([11645, 50])\n",
            "torch.Size([11645, 50, 300])\n"
          ]
        }
      ],
      "source": [
        "from sklearn.model_selection import train_test_split\n",
        "\n",
        "tags_tensor  = torch.tensor(dataset_tags_id)\n",
        "sents_tensor = torch.tensor(dataset_words_id)\n",
        "\n",
        "words_train, words_test = train_test_split(sents_tensor, test_size=0.2, random_state=52)\n",
        "tags_train, tags_test = train_test_split(tags_tensor, test_size=0.2, random_state=52)\n",
        "\n",
        "train_dataset_pt = torch.utils.data.TensorDataset(words_train, tags_train.long())\n",
        "test_dataset_pt = torch.utils.data.TensorDataset(words_test, tags_test.long())\n",
        "\n",
        "print(tags_tensor.shape)\n",
        "print(sents_tensor.shape)\n"
      ]
    },
    {
      "cell_type": "code",
      "execution_count": 35,
      "metadata": {
        "id": "0jBlOxni07N6"
      },
      "outputs": [],
      "source": [
        "class RNNclassifier(torch.nn.Module):\n",
        "    @property\n",
        "    def device(self):\n",
        "        return next(self.parameters()).device\n",
        "\n",
        "    def __init__(\n",
        "            self,\n",
        "            output_dim,\n",
        "            emb_dim=300,\n",
        "            hidden_dim=10,\n",
        "            num_layers=3,\n",
        "            bidirectional=False,\n",
        "            p=0.7,\n",
        "            batchnorm=False):\n",
        "        super(RNNclassifier, self).__init__()\n",
        "\n",
        "        self.hidden_dim = hidden_dim\n",
        "        self.output_dim = output_dim\n",
        "        self.num_layers = num_layers\n",
        "        self.biderect = bidirectional\n",
        "        self.dropout = p\n",
        "        self.batchnorm = batchnorm\n",
        "\n",
        "        self.lstm = torch.nn.LSTM(\n",
        "            emb_dim,\n",
        "            hidden_dim,\n",
        "            num_layers,\n",
        "            bidirectional=bidirectional,\n",
        "            batch_first=True,\n",
        "            dropout=p)\n",
        "\n",
        "        if self.batchnorm:\n",
        "            self.normalization = torch.nn.BatchNorm1d(MAX_SENTENCE_LENGTH)\n",
        "\n",
        "        self.linear = torch.nn.Linear(int(bidirectional + 1)*hidden_dim, output_dim)\n",
        "\n",
        "    def forward(self, input):\n",
        "        #print(input.size(-1))\n",
        "        if input.size(-1) != 300:\n",
        "          global err_cnt\n",
        "          err_cnt += 1\n",
        "          print(err_cnt)\n",
        "          return torch.zeros(self.output_dim)\n",
        "          #print(input.shape)\n",
        "          #print(input)\n",
        "        lstm_out, _ = self.lstm(input.float())\n",
        "        if self.batchnorm:\n",
        "            lstm_out = self.normalization(lstm_out)\n",
        "\n",
        "        return self.linear(lstm_out)\n",
        "\n",
        "    def __str__(self):\n",
        "        return f\"layer_size={self.hidden_dim}\" +     \\\n",
        "               f\"_layers_num={self.num_layers}\" +    \\\n",
        "               f\"_bidirect={int(self.biderect)}\" +   \\\n",
        "               f\"_dropout={self.dropout}\" +          \\\n",
        "               f\"_batchnorm={int(self.batchnorm)}\"\n"
      ]
    },
    {
      "cell_type": "code",
      "execution_count": 36,
      "metadata": {
        "id": "23HVmhum3GIJ"
      },
      "outputs": [],
      "source": [
        "class TensorboardCallback:\n",
        "    def __init__(self, writer, test_dataset, loss_function, delimeter=100, batch_size=64):\n",
        "        self.step = 0\n",
        "        self.writer = writer\n",
        "        self.delimeter = delimeter\n",
        "        self.loss_function = loss_function\n",
        "        self.batch_size = batch_size\n",
        "        self.test_dataset = test_dataset\n",
        "\n",
        "    def forward(self, model, loss):\n",
        "        self.step += 1\n",
        "        self.writer.add_scalar(f'LOSS/train/{model}', loss, self.step)\n",
        "\n",
        "        if self.step % self.delimeter == 0:\n",
        "            self.writer.add_graph(model, torch.zeros(1, MAX_SENTENCE_LENGTH, dtype=torch.long).to(model.device))\n",
        "\n",
        "            model_metrics, model_loss = evaluate_model_score(model, self.test_dataset, self.batch_size, self.loss_function, model.device)\n",
        "\n",
        "            self.writer.add_scalar(f'LOSS/test/{model}', model_loss, self.step)\n",
        "            self.writer.add_text(f'METRICS/{model}', str(model_metrics), self.step)\n",
        "\n",
        "    def __call__(self, model, loss):\n",
        "        return self.forward(model, loss)\n"
      ]
    },
    {
      "cell_type": "code",
      "execution_count": 37,
      "metadata": {
        "id": "P0O-l6t13Gex"
      },
      "outputs": [],
      "source": [
        "config = dict()\n",
        "config['output_dim'] = nerus_tokenizer.tag_to_id.__len__()\n",
        "config['emb_dim'] = 300\n",
        "config['hidden_dim'] = 64\n",
        "config['num_layers'] = 2\n",
        "config['bidirectional'] = False\n",
        "config['batchnorm'] = False\n",
        "config['p'] = 0.2\n"
      ]
    },
    {
      "cell_type": "code",
      "execution_count": 41,
      "metadata": {
        "id": "WbzwaGqr3Ksd"
      },
      "outputs": [
        {
          "data": {
            "application/vnd.jupyter.widget-view+json": {
              "model_id": "39f03133c62d47e2b864945a57a8c9da",
              "version_major": 2,
              "version_minor": 0
            },
            "text/plain": [
              "epoch:   0%|          | 0/10 [00:00<?, ?it/s]"
            ]
          },
          "metadata": {},
          "output_type": "display_data"
        },
        {
          "data": {
            "application/vnd.jupyter.widget-view+json": {
              "model_id": "151f84b8764646b095b89c9a051e4007",
              "version_major": 2,
              "version_minor": 0
            },
            "text/plain": [
              "  0%|          | 0/146 [00:00<?, ?it/s]"
            ]
          },
          "metadata": {},
          "output_type": "display_data"
        },
        {
          "name": "stdout",
          "output_type": "stream",
          "text": [
            "1\n",
            "2\n",
            "3\n"
          ]
        },
        {
          "data": {
            "application/vnd.jupyter.widget-view+json": {
              "model_id": "266f60b1057f4e539f48c29b98a06641",
              "version_major": 2,
              "version_minor": 0
            },
            "text/plain": [
              "  0%|          | 0/146 [00:00<?, ?it/s]"
            ]
          },
          "metadata": {},
          "output_type": "display_data"
        },
        {
          "name": "stdout",
          "output_type": "stream",
          "text": [
            "4\n",
            "5\n",
            "6\n"
          ]
        },
        {
          "data": {
            "application/vnd.jupyter.widget-view+json": {
              "model_id": "1329a2f1f7f0464395e954a9efa59cfe",
              "version_major": 2,
              "version_minor": 0
            },
            "text/plain": [
              "  0%|          | 0/146 [00:00<?, ?it/s]"
            ]
          },
          "metadata": {},
          "output_type": "display_data"
        },
        {
          "name": "stdout",
          "output_type": "stream",
          "text": [
            "7\n",
            "8\n",
            "9\n",
            "10\n",
            "11\n",
            "12\n"
          ]
        },
        {
          "data": {
            "application/vnd.jupyter.widget-view+json": {
              "model_id": "1ff1a2ae1c4445c885fcebbe38abb98e",
              "version_major": 2,
              "version_minor": 0
            },
            "text/plain": [
              "  0%|          | 0/146 [00:00<?, ?it/s]"
            ]
          },
          "metadata": {},
          "output_type": "display_data"
        },
        {
          "name": "stdout",
          "output_type": "stream",
          "text": [
            "13\n",
            "14\n",
            "15\n"
          ]
        },
        {
          "data": {
            "application/vnd.jupyter.widget-view+json": {
              "model_id": "59ba5a189db546f3b6b6abe5edf49f4f",
              "version_major": 2,
              "version_minor": 0
            },
            "text/plain": [
              "  0%|          | 0/146 [00:00<?, ?it/s]"
            ]
          },
          "metadata": {},
          "output_type": "display_data"
        },
        {
          "name": "stdout",
          "output_type": "stream",
          "text": [
            "16\n",
            "17\n",
            "18\n",
            "19\n",
            "20\n",
            "21\n"
          ]
        },
        {
          "data": {
            "application/vnd.jupyter.widget-view+json": {
              "model_id": "6ad6c78b06294fd198fcdbef7195dd5a",
              "version_major": 2,
              "version_minor": 0
            },
            "text/plain": [
              "  0%|          | 0/146 [00:00<?, ?it/s]"
            ]
          },
          "metadata": {},
          "output_type": "display_data"
        },
        {
          "name": "stdout",
          "output_type": "stream",
          "text": [
            "22\n",
            "23\n",
            "24\n"
          ]
        },
        {
          "data": {
            "application/vnd.jupyter.widget-view+json": {
              "model_id": "8194ec8459ac4309905ff9871e3d7f07",
              "version_major": 2,
              "version_minor": 0
            },
            "text/plain": [
              "  0%|          | 0/146 [00:00<?, ?it/s]"
            ]
          },
          "metadata": {},
          "output_type": "display_data"
        },
        {
          "name": "stdout",
          "output_type": "stream",
          "text": [
            "25\n",
            "26\n",
            "27\n",
            "28\n",
            "29\n",
            "30\n"
          ]
        },
        {
          "data": {
            "application/vnd.jupyter.widget-view+json": {
              "model_id": "b0c2b5e34d1e4c069354b5f79b44afa6",
              "version_major": 2,
              "version_minor": 0
            },
            "text/plain": [
              "  0%|          | 0/146 [00:00<?, ?it/s]"
            ]
          },
          "metadata": {},
          "output_type": "display_data"
        },
        {
          "name": "stdout",
          "output_type": "stream",
          "text": [
            "31\n",
            "32\n",
            "33\n"
          ]
        },
        {
          "data": {
            "application/vnd.jupyter.widget-view+json": {
              "model_id": "1b36ab9f5e9d46079d2a418536dabf11",
              "version_major": 2,
              "version_minor": 0
            },
            "text/plain": [
              "  0%|          | 0/146 [00:00<?, ?it/s]"
            ]
          },
          "metadata": {},
          "output_type": "display_data"
        },
        {
          "name": "stdout",
          "output_type": "stream",
          "text": [
            "34\n",
            "35\n",
            "36\n",
            "37\n",
            "38\n",
            "39\n"
          ]
        },
        {
          "data": {
            "application/vnd.jupyter.widget-view+json": {
              "model_id": "e8e326530cec444ea7fbf0e9e00b6dd7",
              "version_major": 2,
              "version_minor": 0
            },
            "text/plain": [
              "  0%|          | 0/146 [00:00<?, ?it/s]"
            ]
          },
          "metadata": {},
          "output_type": "display_data"
        },
        {
          "name": "stdout",
          "output_type": "stream",
          "text": [
            "40\n",
            "41\n",
            "42\n"
          ]
        }
      ],
      "source": [
        "err_cnt = 0\n",
        "\n",
        "model = RNNclassifier(**config).to(device)\n",
        "\n",
        "loss_function = torch.nn.CrossEntropyLoss(ignore_index=nerus_tokenizer.tag_to_id[\"[PAD]\"])\n",
        "optimizer = torch.optim.Adam\n",
        "\n",
        "writer = SummaryWriter(log_dir=f'tensorboard/layer_width/testtrain')\n",
        "nerus_callback = TensorboardCallback(writer, test_dataset_pt, loss_function)\n",
        "\n",
        "trainer(count_of_epoch=10,\n",
        "    batch_size=64,\n",
        "    dataset=train_dataset_pt,\n",
        "    model=model,\n",
        "    loss_function=loss_function,\n",
        "    optimizer=optimizer,\n",
        "    lr=0.001,\n",
        "    callback=nerus_callback)\n"
      ]
    },
    {
      "cell_type": "code",
      "execution_count": null,
      "metadata": {
        "id": "lwLQXAVY35G9"
      },
      "outputs": [],
      "source": [
        "device\n"
      ]
    },
    {
      "cell_type": "code",
      "execution_count": 42,
      "metadata": {
        "id": "tUXsb6rD4Sup"
      },
      "outputs": [],
      "source": [
        "%load_ext tensorboard\n"
      ]
    },
    {
      "cell_type": "code",
      "execution_count": 43,
      "metadata": {
        "id": "mLuuo7gZ8GiV"
      },
      "outputs": [
        {
          "data": {
            "text/html": [
              "\n",
              "      <iframe id=\"tensorboard-frame-b91621df5cdebc38\" width=\"100%\" height=\"800\" frameborder=\"0\">\n",
              "      </iframe>\n",
              "      <script>\n",
              "        (function() {\n",
              "          const frame = document.getElementById(\"tensorboard-frame-b91621df5cdebc38\");\n",
              "          const url = new URL(\"/\", window.location);\n",
              "          const port = 6006;\n",
              "          if (port) {\n",
              "            url.port = port;\n",
              "          }\n",
              "          frame.src = url;\n",
              "        })();\n",
              "      </script>\n",
              "    "
            ],
            "text/plain": [
              "<IPython.core.display.HTML object>"
            ]
          },
          "metadata": {},
          "output_type": "display_data"
        }
      ],
      "source": [
        "%tensorboard --logdir tensorboard/layer_width/testtrain\n"
      ]
    },
    {
      "cell_type": "code",
      "execution_count": 59,
      "metadata": {
        "id": "B7X9kQ118HvG"
      },
      "outputs": [
        {
          "name": "stdout",
          "output_type": "stream",
          "text": [
            "torch.Size([25, 300])\n",
            "tensor([1, 5, 5, 5, 5, 7, 6, 5, 5, 5, 5, 5, 4, 5, 5, 5, 5, 5, 5, 5, 5, 8, 9, 5,\n",
            "        2], device='cuda:0')\n",
            "['[PAD]', '[CLS]', '[SEP]', '[UNK]']\n",
            "{0: '[PAD]', 1: '[CLS]', 2: '[SEP]', 3: '[UNK]', 4: 'B-LOC', 5: 'O', 6: 'I-PER', 7: 'B-PER', 8: 'B-ORG', 9: 'I-ORG', 10: 'I-LOC'}\n",
            "[('[CLS]', '[CLS]'),\n",
            " ('Вице-премьер', 'O'),\n",
            " ('по', 'O'),\n",
            " ('социальным', 'O'),\n",
            " ('вопросам', 'O'),\n",
            " ('Татьяна', 'B-PER'),\n",
            " ('Голикова', 'I-PER'),\n",
            " ('рассказала', 'O'),\n",
            " (',', 'O'),\n",
            " ('в', 'O'),\n",
            " ('каких', 'O'),\n",
            " ('регионах', 'O'),\n",
            " ('России', 'B-LOC'),\n",
            " ('зафиксирована', 'O'),\n",
            " ('наиболее', 'O'),\n",
            " ('высокая', 'O'),\n",
            " ('смертность', 'O'),\n",
            " ('от', 'O'),\n",
            " ('рака', 'O'),\n",
            " (',', 'O'),\n",
            " ('сообщает', 'O'),\n",
            " ('РИА', 'B-ORG'),\n",
            " ('Новости', 'I-ORG'),\n",
            " ('.', 'O'),\n",
            " ('[SEP]', '[SEP]')]\n"
          ]
        },
        {
          "data": {
            "text/plain": [
              "RNNclassifier(\n",
              "  (lstm): LSTM(300, 64, num_layers=2, batch_first=True, dropout=0.2)\n",
              "  (linear): Linear(in_features=64, out_features=11, bias=True)\n",
              ")"
            ]
          },
          "execution_count": 59,
          "metadata": {},
          "output_type": "execute_result"
        }
      ],
      "source": [
        "model.eval()\n",
        "test_data = ['[CLS]',\n",
        " 'Вице-премьер', 'по', 'социальным', 'вопросам', 'Татьяна', 'Голикова', 'рассказала', ',', 'в', 'каких', 'регионах', 'России', 'зафиксирована', 'наиболее', 'высокая', 'смертность', 'от', 'рака', ',', 'сообщает', 'РИА', 'Новости', '.',\n",
        "\n",
        " '[SEP]']\n",
        "tok_test_data = torch.tensor([ft.get_word_vector(i) for i in test_data])\n",
        "print(tok_test_data.shape)\n",
        "output = model(tok_test_data.to(device))\n",
        "output = torch.argmax(output, dim=1)\n",
        "print(output)\n",
        "print(nerus_tokenizer.lstm_tokens)\n",
        "print(nerus_tokenizer.ids_to_word)\n",
        "\n",
        "from pprint import pprint\n",
        "pprint([(w, nerus_tokenizer.ids_to_word[int(t)]) for w, t in zip(test_data, output)])\n",
        "#print([nerus_tokenizer.ids_to_word[int(i)] for i in output]\n",
        "#print([nerus_tokenizer.ids_to_word[int(i)] for i in output])\n",
        "\n",
        "model.train()\n"
      ]
    },
    {
      "cell_type": "code",
      "execution_count": null,
      "metadata": {},
      "outputs": [],
      "source": []
    }
  ],
  "metadata": {
    "colab": {
      "provenance": []
    },
    "kernelspec": {
      "display_name": "Python 3",
      "name": "python3"
    },
    "language_info": {
      "codemirror_mode": {
        "name": "ipython",
        "version": 3
      },
      "file_extension": ".py",
      "mimetype": "text/x-python",
      "name": "python",
      "nbconvert_exporter": "python",
      "pygments_lexer": "ipython3",
      "version": "3.10.12"
    }
  },
  "nbformat": 4,
  "nbformat_minor": 0
}
