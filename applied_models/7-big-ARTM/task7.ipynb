{
 "cells": [
  {
   "cell_type": "code",
   "execution_count": 1,
   "id": "dda657c1-7cc8-414c-8d7f-8d5662ed7646",
   "metadata": {},
   "outputs": [
    {
     "name": "stdout",
     "output_type": "stream",
     "text": [
      "\u001b[33mWARNING: Ignoring invalid distribution -rotobuf (/home/kosty/jupyter/jupyter/lib/python3.10/site-packages)\u001b[0m\u001b[33m\n",
      "\u001b[0m\u001b[33mWARNING: Ignoring invalid distribution -rotobuf (/home/kosty/jupyter/jupyter/lib/python3.10/site-packages)\u001b[0m\u001b[33m\n",
      "\u001b[0m\u001b[33mWARNING: Ignoring invalid distribution -rotobuf (/home/kosty/jupyter/jupyter/lib/python3.10/site-packages)\u001b[0m\u001b[33m\n",
      "\u001b[0m\n",
      "\u001b[1m[\u001b[0m\u001b[34;49mnotice\u001b[0m\u001b[1;39;49m]\u001b[0m\u001b[39;49m A new release of pip is available: \u001b[0m\u001b[31;49m24.2\u001b[0m\u001b[39;49m -> \u001b[0m\u001b[32;49m25.0.1\u001b[0m\n",
      "\u001b[1m[\u001b[0m\u001b[34;49mnotice\u001b[0m\u001b[1;39;49m]\u001b[0m\u001b[39;49m To update, run: \u001b[0m\u001b[32;49mpip install --upgrade pip\u001b[0m\n"
     ]
    }
   ],
   "source": [
    "!pip install --quiet -U bigartm pymorphy2 pyLDAvis"
   ]
  },
  {
   "cell_type": "code",
   "execution_count": 2,
   "id": "c810ef9f-62ad-4e3d-b008-6f633082d33f",
   "metadata": {},
   "outputs": [],
   "source": [
    "import re\n",
    "\n",
    "from matplotlib import gridspec\n",
    "from mpl_toolkits import mplot3d\n",
    "import matplotlib.pyplot as plt\n",
    "import numpy as np\n",
    "import pandas as pd\n",
    "import scipy\n",
    "import seaborn as sns\n",
    "from tqdm.notebook import tqdm\n",
    "\n",
    "import artm\n",
    "import pymorphy2\n",
    "import torch\n",
    "from torch.utils.tensorboard import SummaryWriter\n",
    "\n",
    "from sklearn.decomposition import LatentDirichletAllocation\n",
    "from sklearn.ensemble import RandomForestClassifier\n",
    "from sklearn.feature_extraction.text import CountVectorizer\n",
    "from sklearn.metrics import classification_report\n",
    "from sklearn.utils import shuffle"
   ]
  },
  {
   "cell_type": "code",
   "execution_count": 3,
   "id": "0414f9b6-cc19-43e6-adec-bae08382f1c5",
   "metadata": {},
   "outputs": [],
   "source": [
    "data = pd.read_csv('lenta-ru-proccess.csv')"
   ]
  },
  {
   "cell_type": "code",
   "execution_count": 4,
   "id": "e1117ca9-edb3-4015-bdff-cf2854c0c202",
   "metadata": {},
   "outputs": [],
   "source": [
    "data = data.sample(frac=0.5, random_state=42).reset_index(drop=True)"
   ]
  },
  {
   "cell_type": "code",
   "execution_count": 5,
   "id": "466dad6f-b389-4932-b309-5ac71b7eee44",
   "metadata": {},
   "outputs": [
    {
     "data": {
      "text/html": [
       "<div>\n",
       "<style scoped>\n",
       "    .dataframe tbody tr th:only-of-type {\n",
       "        vertical-align: middle;\n",
       "    }\n",
       "\n",
       "    .dataframe tbody tr th {\n",
       "        vertical-align: top;\n",
       "    }\n",
       "\n",
       "    .dataframe thead th {\n",
       "        text-align: right;\n",
       "    }\n",
       "</style>\n",
       "<table border=\"1\" class=\"dataframe\">\n",
       "  <thead>\n",
       "    <tr style=\"text-align: right;\">\n",
       "      <th></th>\n",
       "      <th>text</th>\n",
       "      <th>tags</th>\n",
       "      <th>len</th>\n",
       "      <th>date</th>\n",
       "    </tr>\n",
       "  </thead>\n",
       "  <tbody>\n",
       "    <tr>\n",
       "      <th>0</th>\n",
       "      <td>сайт \" единый россия \" рамка подготовка переме...</td>\n",
       "      <td>Все</td>\n",
       "      <td>1338</td>\n",
       "      <td>27-05-2008</td>\n",
       "    </tr>\n",
       "    <tr>\n",
       "      <th>1</th>\n",
       "      <td>понедельник трое активист британский правозащи...</td>\n",
       "      <td>Все</td>\n",
       "      <td>1210</td>\n",
       "      <td>28-02-2005</td>\n",
       "    </tr>\n",
       "    <tr>\n",
       "      <th>2</th>\n",
       "      <td>обмен тело израильский военнослужащий эхуд гол...</td>\n",
       "      <td>Все</td>\n",
       "      <td>1753</td>\n",
       "      <td>16-07-2008</td>\n",
       "    </tr>\n",
       "    <tr>\n",
       "      <th>3</th>\n",
       "      <td>украина рассчитывать получить очередной транш ...</td>\n",
       "      <td>Госэкономика</td>\n",
       "      <td>1282</td>\n",
       "      <td>01-03-2017</td>\n",
       "    </tr>\n",
       "    <tr>\n",
       "      <th>4</th>\n",
       "      <td>римский аэропорт фьюмичино сотрудник служба бе...</td>\n",
       "      <td>Все</td>\n",
       "      <td>743</td>\n",
       "      <td>21-07-2007</td>\n",
       "    </tr>\n",
       "    <tr>\n",
       "      <th>...</th>\n",
       "      <td>...</td>\n",
       "      <td>...</td>\n",
       "      <td>...</td>\n",
       "      <td>...</td>\n",
       "    </tr>\n",
       "    <tr>\n",
       "      <th>431637</th>\n",
       "      <td>роспотребнадзор приостановить ввоз территория ...</td>\n",
       "      <td>Бизнес</td>\n",
       "      <td>639</td>\n",
       "      <td>26-04-2017</td>\n",
       "    </tr>\n",
       "    <tr>\n",
       "      <th>431638</th>\n",
       "      <td>подозревать отравление газировка 20 человек це...</td>\n",
       "      <td>Следствие и суд</td>\n",
       "      <td>2457</td>\n",
       "      <td>25-06-2019</td>\n",
       "    </tr>\n",
       "    <tr>\n",
       "      <th>431639</th>\n",
       "      <td>эксперт радиологический лаборатория университе...</td>\n",
       "      <td>Все</td>\n",
       "      <td>1336</td>\n",
       "      <td>24-08-2012</td>\n",
       "    </tr>\n",
       "    <tr>\n",
       "      <th>431640</th>\n",
       "      <td>россия откладывать возобновление авиасообщение...</td>\n",
       "      <td>Россия</td>\n",
       "      <td>1229</td>\n",
       "      <td>17-11-2019</td>\n",
       "    </tr>\n",
       "    <tr>\n",
       "      <th>431641</th>\n",
       "      <td>российский центровой клуб нба \" денвер наггетс...</td>\n",
       "      <td>Все</td>\n",
       "      <td>685</td>\n",
       "      <td>06-04-2011</td>\n",
       "    </tr>\n",
       "  </tbody>\n",
       "</table>\n",
       "<p>431642 rows × 4 columns</p>\n",
       "</div>"
      ],
      "text/plain": [
       "                                                     text             tags  \\\n",
       "0       сайт \" единый россия \" рамка подготовка переме...              Все   \n",
       "1       понедельник трое активист британский правозащи...              Все   \n",
       "2       обмен тело израильский военнослужащий эхуд гол...              Все   \n",
       "3       украина рассчитывать получить очередной транш ...     Госэкономика   \n",
       "4       римский аэропорт фьюмичино сотрудник служба бе...              Все   \n",
       "...                                                   ...              ...   \n",
       "431637  роспотребнадзор приостановить ввоз территория ...           Бизнес   \n",
       "431638  подозревать отравление газировка 20 человек це...  Следствие и суд   \n",
       "431639  эксперт радиологический лаборатория университе...              Все   \n",
       "431640  россия откладывать возобновление авиасообщение...           Россия   \n",
       "431641  российский центровой клуб нба \" денвер наггетс...              Все   \n",
       "\n",
       "         len        date  \n",
       "0       1338  27-05-2008  \n",
       "1       1210  28-02-2005  \n",
       "2       1753  16-07-2008  \n",
       "3       1282  01-03-2017  \n",
       "4        743  21-07-2007  \n",
       "...      ...         ...  \n",
       "431637   639  26-04-2017  \n",
       "431638  2457  25-06-2019  \n",
       "431639  1336  24-08-2012  \n",
       "431640  1229  17-11-2019  \n",
       "431641   685  06-04-2011  \n",
       "\n",
       "[431642 rows x 4 columns]"
      ]
     },
     "execution_count": 5,
     "metadata": {},
     "output_type": "execute_result"
    }
   ],
   "source": [
    "data"
   ]
  },
  {
   "cell_type": "code",
   "execution_count": 6,
   "id": "8218dfc3-dc64-4aeb-b3ac-6a6147473729",
   "metadata": {},
   "outputs": [],
   "source": [
    "def prepare_data(model_name, func, data, batch_size=2048):\n",
    "    filename_train = f'vw_data/{model_name}/texts_train.vw.txt'\n",
    "    filename_valid = f'vw_data/{model_name}/texts_valid.vw.txt'\n",
    "    \n",
    "    with open(filename_train, 'w') as fout_train:\n",
    "        with open(filename_valid, 'w') as fout_valid:\n",
    "            y_train, y_valid = func(data, fout_train, fout_valid)\n",
    "\n",
    "    with open(f'vw_data/{model_name}/y_train.vw.txt', 'w') as f:\n",
    "        f.write('\\n'.join(y_train))\n",
    "\n",
    "    with open(f'vw_data/{model_name}/y_valid.vw.txt', 'w') as f:\n",
    "        f.write('\\n'.join(y_valid))\n",
    "\n",
    "    bv_train = artm.BatchVectorizer(\n",
    "        data_path=filename_train,\n",
    "        data_format='vowpal_wabbit',\n",
    "        batch_size=batch_size, \n",
    "        target_folder=f'vw_batches/{model_name}/batches_train')\n",
    "    \n",
    "    bv_test = artm.BatchVectorizer(\n",
    "        data_path=filename_valid,\n",
    "        data_format='vowpal_wabbit',\n",
    "        batch_size=batch_size, \n",
    "        target_folder=f'vw_batches/{model_name}/batches_valid')\n",
    "\n",
    "    dictionary = artm.Dictionary()\n",
    "    dictionary.gather(data_path=f'vw_batches/{model_name}/batches_train')\n",
    "\n",
    "    return dictionary, bv_train, bv_test, y_train, y_valid"
   ]
  },
  {
   "cell_type": "code",
   "execution_count": 32,
   "id": "94ba3466-3246-451b-8f7a-619113860725",
   "metadata": {},
   "outputs": [],
   "source": [
    "def create_model(num_topics, dictionary, class_ids, scores, regularizers=[]):\n",
    "    model = artm.ARTM(\n",
    "        num_topics=num_topics,\n",
    "        dictionary=dictionary,\n",
    "        class_ids=class_ids)\n",
    "\n",
    "    for score in scores:\n",
    "        model.scores.add(score)\n",
    "\n",
    "    for regularizer in regularizers:\n",
    "        model.regularizers.add(regularizer)\n",
    "\n",
    "    return model"
   ]
  },
  {
   "cell_type": "code",
   "execution_count": 8,
   "id": "2c9fc9ce-f46b-4055-b50c-3250d3be092a",
   "metadata": {},
   "outputs": [],
   "source": [
    "def fit_model(model, bv_train, n_iterations=10, num_collection_passes=1):\n",
    "    iterator = tqdm(range(n_iterations))\n",
    "    for i in iterator:\n",
    "        model.fit_offline(bv_train, num_collection_passes=num_collection_passes)"
   ]
  },
  {
   "cell_type": "code",
   "execution_count": 9,
   "id": "09d5c018-c493-4f8f-a85b-5ccc1d4ddcf4",
   "metadata": {},
   "outputs": [],
   "source": [
    "def estimate_model(model, bv_train, bv_test, y_train, y_valid):\n",
    "    X_train_pd, X_train = model.transform(bv_train), []\n",
    "    for i in tqdm(range(len(y_train))):\n",
    "        X_train.append(X_train_pd[i].values)\n",
    "\n",
    "    X_train = np.array(X_train)\n",
    "    y_train = np.array(y_train)\n",
    "\n",
    "    X_train, y_train = shuffle(X_train, y_train)\n",
    "\n",
    "    X_train = X_train[:40000]\n",
    "    y_train = y_train[:40000]\n",
    "\n",
    "    classifier = RandomForestClassifier(n_estimators=10)\n",
    "    classifier.fit(X_train, y_train)\n",
    "\n",
    "    X_valid_pd, X_valid = model.transform(bv_test), []\n",
    "    for i in tqdm(range(len(y_valid))):\n",
    "        X_valid.append(X_valid_pd[i].values)\n",
    "\n",
    "    pred = classifier.predict(X_valid)\n",
    "\n",
    "    return classification_report(y_valid, pred, zero_division=1)"
   ]
  },
  {
   "cell_type": "code",
   "execution_count": 10,
   "id": "16ac1c1a-5725-4a46-b566-5b142f943b97",
   "metadata": {},
   "outputs": [],
   "source": [
    "def show_model_metric(model, metric_name):\n",
    "    plt.plot(model.score_tracker[metric_name].value, label=metric_name)\n",
    "\n",
    "    plt.legend(loc='best')\n",
    "\n",
    "    plt.xlabel('iteration')\n",
    "    plt.ylabel('score')\n",
    "    plt.show()"
   ]
  },
  {
   "cell_type": "markdown",
   "id": "e3807e3e-eaba-4132-b19d-9c293bfc7e02",
   "metadata": {},
   "source": [
    "# Simple"
   ]
  },
  {
   "cell_type": "code",
   "execution_count": 11,
   "id": "38de649e-c582-4e76-ba3a-a9b3535ef820",
   "metadata": {},
   "outputs": [],
   "source": [
    "model_name = 'simple'"
   ]
  },
  {
   "cell_type": "code",
   "execution_count": 12,
   "id": "9afdb899-c907-485c-9f6f-779fe0b5f265",
   "metadata": {},
   "outputs": [],
   "source": [
    "def func_simple(data, fout_train, fout_valid):\n",
    "    counter_train = 0\n",
    "    counter_valid = 0\n",
    "\n",
    "    y_train = []\n",
    "    y_valid = []\n",
    "\n",
    "    reg = re.compile(r'\\W+')\n",
    "    for i in tqdm(range(len(data))):\n",
    "        text = (reg.sub(' ', data.loc[i]['text']).strip()).split()\n",
    "\n",
    "        if len(text) > 100:\n",
    "            date = data.loc[i]['date'].split('-')[-1].lower().strip()\n",
    "            if (i + 1) % 100 != 0:\n",
    "                fout_train.write('doc_{} {}\\n'.format(counter_train, ' '.join(text)))\n",
    "                counter_train += 1\n",
    "                y_train.append(date) \n",
    "            else:\n",
    "                fout_valid.write('doc_{} {}\\n'.format(counter_valid, ' '.join(text)))\n",
    "                counter_valid += 1\n",
    "                y_valid.append(date)\n",
    "\n",
    "    return y_train, y_valid"
   ]
  },
  {
   "cell_type": "code",
   "execution_count": 13,
   "id": "7de6db11-7922-4cdd-a255-367a1693bbc8",
   "metadata": {},
   "outputs": [
    {
     "data": {
      "application/vnd.jupyter.widget-view+json": {
       "model_id": "51a04db66eff4dcb8f43c9b6c079845f",
       "version_major": 2,
       "version_minor": 0
      },
      "text/plain": [
       "  0%|          | 0/431642 [00:00<?, ?it/s]"
      ]
     },
     "metadata": {},
     "output_type": "display_data"
    }
   ],
   "source": [
    "dictionary, bv_train, bv_test, y_train, y_valid = prepare_data(model_name, func_simple, data)"
   ]
  },
  {
   "cell_type": "code",
   "execution_count": 14,
   "id": "dfe521c1-3300-4958-b19b-3f2bcc44c560",
   "metadata": {},
   "outputs": [],
   "source": [
    "# model = artm.load_artm_model(f'model/{model_name}')\n",
    "\n",
    "# model.scores.add(artm.PerplexityScore(name='perplexity', dictionary=dictionary), overwrite=True)"
   ]
  },
  {
   "cell_type": "code",
   "execution_count": 15,
   "id": "6989cce1-6b62-47fd-8d05-e946e890fd78",
   "metadata": {},
   "outputs": [],
   "source": [
    "model = create_model(128, dictionary, {'@default_class': 1.0}, (artm.PerplexityScore(name='perplexity', dictionary=dictionary),))"
   ]
  },
  {
   "cell_type": "code",
   "execution_count": 16,
   "id": "a536c50a-bd04-47d2-a21c-f427737a2368",
   "metadata": {},
   "outputs": [
    {
     "data": {
      "application/vnd.jupyter.widget-view+json": {
       "model_id": "59a77e6553f34450a032120bd137f8ef",
       "version_major": 2,
       "version_minor": 0
      },
      "text/plain": [
       "  0%|          | 0/10 [00:00<?, ?it/s]"
      ]
     },
     "metadata": {},
     "output_type": "display_data"
    }
   ],
   "source": [
    "fit_model(model, bv_train)"
   ]
  },
  {
   "cell_type": "code",
   "execution_count": 17,
   "id": "e5241b9b-e6ea-4e25-b9da-4603c056b548",
   "metadata": {},
   "outputs": [],
   "source": [
    "# model.dump_artm_model(f'model/{model_name}')"
   ]
  },
  {
   "cell_type": "code",
   "execution_count": 18,
   "id": "931b872c-4c0e-4529-a95d-1470c0ae602f",
   "metadata": {},
   "outputs": [
    {
     "data": {
      "image/png": "[encoded data removed]",
      "text/plain": [
       "<Figure size 640x480 with 1 Axes>"
      ]
     },
     "metadata": {},
     "output_type": "display_data"
    }
   ],
   "source": [
    "show_model_metric(model, 'perplexity')"
   ]
  },
  {
   "cell_type": "code",
   "execution_count": 19,
   "id": "b0b891ff-676e-4afc-964d-7a3ca3fa7e7b",
   "metadata": {},
   "outputs": [
    {
     "data": {
      "application/vnd.jupyter.widget-view+json": {
       "model_id": "253879505bbb4479b32963d36abf57a1",
       "version_major": 2,
       "version_minor": 0
      },
      "text/plain": [
       "  0%|          | 0/326899 [00:00<?, ?it/s]"
      ]
     },
     "metadata": {},
     "output_type": "display_data"
    },
    {
     "data": {
      "application/vnd.jupyter.widget-view+json": {
       "model_id": "8f5ae4c2b1884fb4adb9d44b6ad2ec76",
       "version_major": 2,
       "version_minor": 0
      },
      "text/plain": [
       "  0%|          | 0/3281 [00:00<?, ?it/s]"
      ]
     },
     "metadata": {},
     "output_type": "display_data"
    }
   ],
   "source": [
    "report = estimate_model(model, bv_train, bv_test, y_train, y_valid)"
   ]
  },
  {
   "cell_type": "code",
   "execution_count": 20,
   "id": "3cd6f17b-6348-4a9d-951c-68b2433b1f14",
   "metadata": {},
   "outputs": [
    {
     "name": "stdout",
     "output_type": "stream",
     "text": [
      "              precision    recall  f1-score   support\n",
      "\n",
      "        1999       0.00      0.00      1.00        10\n",
      "        2000       0.02      0.03      0.02        34\n",
      "        2001       0.00      0.00      1.00        62\n",
      "        2002       0.05      0.05      0.05        59\n",
      "        2003       0.11      0.11      0.11        74\n",
      "        2004       0.04      0.05      0.04        84\n",
      "        2005       0.05      0.07      0.06       113\n",
      "        2006       0.02      0.03      0.02       115\n",
      "        2007       0.07      0.08      0.07       131\n",
      "        2008       0.08      0.08      0.08       180\n",
      "        2009       0.10      0.13      0.11       204\n",
      "        2010       0.09      0.11      0.10       164\n",
      "        2011       0.11      0.12      0.11       198\n",
      "        2012       0.08      0.08      0.08       203\n",
      "        2013       0.05      0.05      0.05       187\n",
      "        2014       0.10      0.08      0.09       158\n",
      "        2015       0.11      0.09      0.10       199\n",
      "        2016       0.12      0.13      0.12       251\n",
      "        2017       0.12      0.09      0.10       222\n",
      "        2018       0.20      0.11      0.14       187\n",
      "        2019       0.14      0.15      0.15       218\n",
      "        2020       0.38      0.31      0.34       228\n",
      "\n",
      "    accuracy                           0.11      3281\n",
      "   macro avg       0.09      0.09      0.18      3281\n",
      "weighted avg       0.12      0.11      0.13      3281\n",
      "\n"
     ]
    }
   ],
   "source": [
    "print(report)"
   ]
  },
  {
   "cell_type": "markdown",
   "id": "3345f999-55a8-436d-9e69-a2364d4d4931",
   "metadata": {},
   "source": [
    "# Modality"
   ]
  },
  {
   "cell_type": "code",
   "execution_count": 21,
   "id": "a2ce1dc7-7f9d-4088-ab2a-18babe5f733d",
   "metadata": {},
   "outputs": [],
   "source": [
    "model_name = 'modality'"
   ]
  },
  {
   "cell_type": "code",
   "execution_count": 22,
   "id": "fe927685-c97a-407b-b7d0-276c8f563724",
   "metadata": {},
   "outputs": [],
   "source": [
    "def func_modality(data, fout_train, fout_valid):\n",
    "    counter_train = 0\n",
    "    counter_valid = 0\n",
    "\n",
    "    y_train = []\n",
    "    y_valid = []\n",
    "\n",
    "    reg = re.compile(r'\\W+')\n",
    "    for i in tqdm(range(len(data))):\n",
    "        text = (reg.sub(' ', data.loc[i]['text']).strip()).split()\n",
    "        label = data.loc[i]['tags']\n",
    "\n",
    "        if len(text) > 100:\n",
    "            date = data.loc[i]['date'].split('-')[-1].lower().strip()\n",
    "            if (i + 1) % 100 != 0:\n",
    "                fout_train.write('doc_{} {} |@tags class_{}\\n'.format(counter_train, ' '.join(text), label))\n",
    "                counter_train += 1\n",
    "                y_train.append(date) \n",
    "            else:\n",
    "                fout_valid.write('doc_{} {} |@tags class_{}\\n'.format(counter_valid, ' '.join(text), label))\n",
    "                counter_valid += 1\n",
    "                y_valid.append(date)\n",
    "\n",
    "    return y_train, y_valid"
   ]
  },
  {
   "cell_type": "code",
   "execution_count": 23,
   "id": "6514be92-aa79-4f10-b249-b76a49593f01",
   "metadata": {},
   "outputs": [
    {
     "data": {
      "application/vnd.jupyter.widget-view+json": {
       "model_id": "1ca3d08de2fe4cefa802e8e0e51d86ce",
       "version_major": 2,
       "version_minor": 0
      },
      "text/plain": [
       "  0%|          | 0/431642 [00:00<?, ?it/s]"
      ]
     },
     "metadata": {},
     "output_type": "display_data"
    }
   ],
   "source": [
    "dictionary, bv_train, bv_test, y_train, y_valid = prepare_data(model_name, func_modality, data)"
   ]
  },
  {
   "cell_type": "code",
   "execution_count": 24,
   "id": "4f157758-3cbc-4453-9cc2-3d6918401248",
   "metadata": {},
   "outputs": [],
   "source": [
    "# model = artm.load_artm_model(f'model/{model_name}')\n",
    "\n",
    "# model.scores.add(artm.PerplexityScore(name='perplexity', dictionary=dictionary), overwrite=True)"
   ]
  },
  {
   "cell_type": "code",
   "execution_count": 25,
   "id": "9a6df8db-c98f-4bc8-b228-21f006b46be4",
   "metadata": {},
   "outputs": [],
   "source": [
    "model = create_model(\n",
    "    128,\n",
    "    dictionary,\n",
    "    {'@default_class': 1.0, '@tags': 10.0},\n",
    "    (\n",
    "        artm.PerplexityScore(name='perplexity', dictionary=dictionary),\n",
    "        artm.SparsityPhiScore(name='sparsity', class_id='@tags'),\n",
    "    ))"
   ]
  },
  {
   "cell_type": "code",
   "execution_count": 26,
   "id": "a1e04210-5871-4c75-bb6c-fdc74afda62a",
   "metadata": {},
   "outputs": [
    {
     "data": {
      "application/vnd.jupyter.widget-view+json": {
       "model_id": "8237e72024114b7c91cbcc7d3d5b4bc1",
       "version_major": 2,
       "version_minor": 0
      },
      "text/plain": [
       "  0%|          | 0/15 [00:00<?, ?it/s]"
      ]
     },
     "metadata": {},
     "output_type": "display_data"
    }
   ],
   "source": [
    "fit_model(model, bv_train, n_iterations=15)"
   ]
  },
  {
   "cell_type": "code",
   "execution_count": 27,
   "id": "5f11c9ec-6cc0-4a06-a99c-58e39f7366bf",
   "metadata": {},
   "outputs": [],
   "source": [
    "# model.dump_artm_model(f'model/{model_name}')"
   ]
  },
  {
   "cell_type": "code",
   "execution_count": 28,
   "id": "b2e0f6d5-612d-4719-ad68-c0cbe4502fdb",
   "metadata": {},
   "outputs": [
    {
     "data": {
      "image/png": "[encoded data removed]",
      "text/plain": [
       "<Figure size 640x480 with 1 Axes>"
      ]
     },
     "metadata": {},
     "output_type": "display_data"
    }
   ],
   "source": [
    "show_model_metric(model, 'perplexity')"
   ]
  },
  {
   "cell_type": "code",
   "execution_count": 29,
   "id": "1b66d706-8998-4d8c-905a-d0e14ed0522a",
   "metadata": {},
   "outputs": [
    {
     "data": {
      "image/png": "[encoded data removed]",
      "text/plain": [
       "<Figure size 640x480 with 1 Axes>"
      ]
     },
     "metadata": {},
     "output_type": "display_data"
    }
   ],
   "source": [
    "show_model_metric(model, 'sparsity')"
   ]
  },
  {
   "cell_type": "code",
   "execution_count": 30,
   "id": "b28a635a-ec62-4fba-803e-6ed422c6d74b",
   "metadata": {},
   "outputs": [
    {
     "data": {
      "application/vnd.jupyter.widget-view+json": {
       "model_id": "837cecf29011414385acd70cf08d46a9",
       "version_major": 2,
       "version_minor": 0
      },
      "text/plain": [
       "  0%|          | 0/326899 [00:00<?, ?it/s]"
      ]
     },
     "metadata": {},
     "output_type": "display_data"
    },
    {
     "data": {
      "application/vnd.jupyter.widget-view+json": {
       "model_id": "9cda34f21b1c4614973dd28cbedfd8b8",
       "version_major": 2,
       "version_minor": 0
      },
      "text/plain": [
       "  0%|          | 0/3281 [00:00<?, ?it/s]"
      ]
     },
     "metadata": {},
     "output_type": "display_data"
    }
   ],
   "source": [
    "report = estimate_model(model, bv_train, bv_test, y_train, y_valid)"
   ]
  },
  {
   "cell_type": "code",
   "execution_count": 31,
   "id": "2d9569ae-a52d-4170-9351-3e36d0a03233",
   "metadata": {},
   "outputs": [
    {
     "name": "stdout",
     "output_type": "stream",
     "text": [
      "              precision    recall  f1-score   support\n",
      "\n",
      "        1999       0.00      0.00      1.00        10\n",
      "        2000       0.00      0.00      1.00        34\n",
      "        2001       0.04      0.03      0.04        62\n",
      "        2002       0.01      0.02      0.02        59\n",
      "        2003       0.05      0.04      0.04        74\n",
      "        2004       0.08      0.10      0.09        84\n",
      "        2005       0.08      0.09      0.08       113\n",
      "        2006       0.03      0.03      0.03       115\n",
      "        2007       0.11      0.11      0.11       131\n",
      "        2008       0.15      0.18      0.17       180\n",
      "        2009       0.14      0.20      0.16       204\n",
      "        2010       0.10      0.12      0.11       164\n",
      "        2011       0.15      0.15      0.15       198\n",
      "        2012       0.13      0.12      0.13       203\n",
      "        2013       0.15      0.17      0.16       187\n",
      "        2014       0.06      0.06      0.06       158\n",
      "        2015       0.12      0.12      0.12       199\n",
      "        2016       0.20      0.20      0.20       251\n",
      "        2017       0.16      0.14      0.15       222\n",
      "        2018       0.16      0.08      0.11       187\n",
      "        2019       0.16      0.15      0.15       218\n",
      "        2020       0.45      0.35      0.40       228\n",
      "\n",
      "    accuracy                           0.14      3281\n",
      "   macro avg       0.11      0.11      0.20      3281\n",
      "weighted avg       0.15      0.14      0.16      3281\n",
      "\n"
     ]
    }
   ],
   "source": [
    "print(report)"
   ]
  },
  {
   "cell_type": "markdown",
   "id": "cf72ff15-18d8-48f8-a884-b5e5dab33908",
   "metadata": {},
   "source": [
    "# Regularizer"
   ]
  },
  {
   "cell_type": "code",
   "execution_count": 33,
   "id": "061e43d5-57ac-4bec-9a69-db8aa22fb550",
   "metadata": {},
   "outputs": [],
   "source": [
    "model_name = 'regularizer'"
   ]
  },
  {
   "cell_type": "code",
   "execution_count": 35,
   "id": "31c6b456-5eb5-4f70-9628-de373472b2ed",
   "metadata": {},
   "outputs": [
    {
     "data": {
      "application/vnd.jupyter.widget-view+json": {
       "model_id": "649f08d520a045bea3726b55968efce5",
       "version_major": 2,
       "version_minor": 0
      },
      "text/plain": [
       "  0%|          | 0/431642 [00:00<?, ?it/s]"
      ]
     },
     "metadata": {},
     "output_type": "display_data"
    }
   ],
   "source": [
    "dictionary, bv_train, bv_test, y_train, y_valid = prepare_data(model_name, func_modality, data)"
   ]
  },
  {
   "cell_type": "code",
   "execution_count": 36,
   "id": "1635e465-1075-4672-b0e6-0b7e5fec0fbd",
   "metadata": {},
   "outputs": [],
   "source": [
    "model = create_model(\n",
    "    128,\n",
    "    dictionary,\n",
    "    {'@default_class': 1.0, '@tags': 10.0},\n",
    "    (\n",
    "        artm.PerplexityScore(name='perplexity', dictionary=dictionary),\n",
    "        artm.SparsityPhiScore(name='sparsity', class_id='@tags'),\n",
    "    ),\n",
    "    (\n",
    "        artm.SmoothSparsePhiRegularizer(name='sparse_phi', tau=-0.5),\n",
    "    ))"
   ]
  },
  {
   "cell_type": "code",
   "execution_count": 37,
   "id": "716f953f-b128-4d7f-ad69-93ab843016bb",
   "metadata": {},
   "outputs": [
    {
     "data": {
      "application/vnd.jupyter.widget-view+json": {
       "model_id": "bfff152a0e374c8f90f591400f8795a2",
       "version_major": 2,
       "version_minor": 0
      },
      "text/plain": [
       "  0%|          | 0/15 [00:00<?, ?it/s]"
      ]
     },
     "metadata": {},
     "output_type": "display_data"
    }
   ],
   "source": [
    "fit_model(model, bv_train, n_iterations=15)"
   ]
  },
  {
   "cell_type": "code",
   "execution_count": 43,
   "id": "71223359-d357-4bd9-9510-baadc8fd75f0",
   "metadata": {},
   "outputs": [],
   "source": [
    "# model.dump_artm_model(f'model/{model_name}')"
   ]
  },
  {
   "cell_type": "code",
   "execution_count": 39,
   "id": "91eac528-b063-4cf6-9a86-93c129bbc8cf",
   "metadata": {},
   "outputs": [
    {
     "data": {
      "image/png": "[encoded data removed]",
      "text/plain": [
       "<Figure size 640x480 with 1 Axes>"
      ]
     },
     "metadata": {},
     "output_type": "display_data"
    }
   ],
   "source": [
    "show_model_metric(model, 'perplexity')"
   ]
  },
  {
   "cell_type": "code",
   "execution_count": 40,
   "id": "1fea2b66-8e88-4b0f-9294-866168163712",
   "metadata": {},
   "outputs": [
    {
     "data": {
      "image/png": "[encoded data removed]",
      "text/plain": [
       "<Figure size 640x480 with 1 Axes>"
      ]
     },
     "metadata": {},
     "output_type": "display_data"
    }
   ],
   "source": [
    "show_model_metric(model, 'sparsity')"
   ]
  },
  {
   "cell_type": "code",
   "execution_count": 41,
   "id": "048f91a2-aa04-4ca2-92f2-95b08715e7e2",
   "metadata": {},
   "outputs": [
    {
     "data": {
      "application/vnd.jupyter.widget-view+json": {
       "model_id": "61923381f2264624af4fdd4777fb9baf",
       "version_major": 2,
       "version_minor": 0
      },
      "text/plain": [
       "  0%|          | 0/326899 [00:00<?, ?it/s]"
      ]
     },
     "metadata": {},
     "output_type": "display_data"
    },
    {
     "data": {
      "application/vnd.jupyter.widget-view+json": {
       "model_id": "0f56ad96cf5043999da4226102995230",
       "version_major": 2,
       "version_minor": 0
      },
      "text/plain": [
       "  0%|          | 0/3281 [00:00<?, ?it/s]"
      ]
     },
     "metadata": {},
     "output_type": "display_data"
    }
   ],
   "source": [
    "report = estimate_model(model, bv_train, bv_test, y_train, y_valid)"
   ]
  },
  {
   "cell_type": "code",
   "execution_count": 42,
   "id": "6f45d09f-6151-4aa2-aa34-1616f0d2e5a1",
   "metadata": {},
   "outputs": [
    {
     "name": "stdout",
     "output_type": "stream",
     "text": [
      "              precision    recall  f1-score   support\n",
      "\n",
      "        1999       0.00      0.00      1.00        10\n",
      "        2000       0.00      0.00      1.00        34\n",
      "        2001       0.05      0.03      0.04        62\n",
      "        2002       0.07      0.08      0.08        59\n",
      "        2003       0.10      0.09      0.10        74\n",
      "        2004       0.10      0.12      0.11        84\n",
      "        2005       0.07      0.09      0.08       113\n",
      "        2006       0.10      0.14      0.12       115\n",
      "        2007       0.11      0.11      0.11       131\n",
      "        2008       0.13      0.17      0.15       180\n",
      "        2009       0.12      0.17      0.14       204\n",
      "        2010       0.10      0.12      0.11       164\n",
      "        2011       0.12      0.11      0.11       198\n",
      "        2012       0.10      0.09      0.10       203\n",
      "        2013       0.17      0.17      0.17       187\n",
      "        2014       0.11      0.09      0.10       158\n",
      "        2015       0.14      0.15      0.14       199\n",
      "        2016       0.16      0.18      0.17       251\n",
      "        2017       0.14      0.11      0.12       222\n",
      "        2018       0.16      0.10      0.12       187\n",
      "        2019       0.20      0.16      0.18       218\n",
      "        2020       0.45      0.32      0.38       228\n",
      "\n",
      "    accuracy                           0.14      3281\n",
      "   macro avg       0.12      0.12      0.21      3281\n",
      "weighted avg       0.15      0.14      0.16      3281\n",
      "\n"
     ]
    }
   ],
   "source": [
    "print(report)"
   ]
  },
  {
   "cell_type": "markdown",
   "id": "09e41168-055c-4c06-b5bf-dce1b846229c",
   "metadata": {},
   "source": [
    "# Years"
   ]
  },
  {
   "cell_type": "code",
   "execution_count": 58,
   "id": "ef2079a5-1814-4823-9d88-60216e1c5853",
   "metadata": {},
   "outputs": [],
   "source": [
    "model_name = 'years'"
   ]
  },
  {
   "cell_type": "code",
   "execution_count": 59,
   "id": "9dc8acbf-bb2c-46d8-bc77-9e6e00cc5d6a",
   "metadata": {},
   "outputs": [],
   "source": [
    "def func_years(data, fout_train, fout_valid):\n",
    "    counter_train = 0\n",
    "    counter_valid = 0\n",
    "\n",
    "    y_train = []\n",
    "    y_valid = []\n",
    "\n",
    "    reg = re.compile(r'\\W+')\n",
    "    for i in tqdm(range(len(data))):\n",
    "        text = (reg.sub(' ', data.loc[i]['text']).strip()).split()\n",
    "        label = data.loc[i]['date'].split('-')[-1].lower().strip()\n",
    "\n",
    "        if len(text) > 100:\n",
    "            date = label\n",
    "            if (i + 1) % 100 != 0:\n",
    "                fout_train.write('doc_{} {} |@years class_{}\\n'.format(counter_train, ' '.join(text), label))\n",
    "                counter_train += 1\n",
    "                y_train.append(date) \n",
    "            else:\n",
    "                fout_valid.write('doc_{} {} |@years class_{}\\n'.format(counter_valid, ' '.join(text), label))\n",
    "                counter_valid += 1\n",
    "                y_valid.append(date)\n",
    "\n",
    "    return y_train, y_valid"
   ]
  },
  {
   "cell_type": "code",
   "execution_count": 60,
   "id": "96ea1904-a901-47d2-9e8a-e00ea20a900a",
   "metadata": {},
   "outputs": [
    {
     "data": {
      "application/vnd.jupyter.widget-view+json": {
       "model_id": "e579d339530a48b990313ce0a99e2d16",
       "version_major": 2,
       "version_minor": 0
      },
      "text/plain": [
       "  0%|          | 0/431642 [00:00<?, ?it/s]"
      ]
     },
     "metadata": {},
     "output_type": "display_data"
    }
   ],
   "source": [
    "dictionary, bv_train, bv_test, y_train, y_valid = prepare_data(model_name, func_years, data)"
   ]
  },
  {
   "cell_type": "code",
   "execution_count": 61,
   "id": "13f5152f-4f30-4bb6-a67b-1d69281646e3",
   "metadata": {},
   "outputs": [],
   "source": [
    "model = create_model(\n",
    "    128,\n",
    "    dictionary,\n",
    "    {'@default_class': 1.0, '@years': 10.0},\n",
    "    (\n",
    "        artm.PerplexityScore(name='perplexity', dictionary=dictionary),\n",
    "        artm.SparsityPhiScore(name='sparsity', class_id='@years'),\n",
    "    ),\n",
    "    (\n",
    "        artm.SmoothSparsePhiRegularizer(name='sparse_phi', tau=-0.5),\n",
    "    ))"
   ]
  },
  {
   "cell_type": "code",
   "execution_count": 62,
   "id": "988f979a-3735-4aea-8c87-6836e3b255d7",
   "metadata": {},
   "outputs": [
    {
     "data": {
      "application/vnd.jupyter.widget-view+json": {
       "model_id": "cb64c7cee4004b1781245924ef0462e6",
       "version_major": 2,
       "version_minor": 0
      },
      "text/plain": [
       "  0%|          | 0/15 [00:00<?, ?it/s]"
      ]
     },
     "metadata": {},
     "output_type": "display_data"
    }
   ],
   "source": [
    "fit_model(model, bv_train, n_iterations=15)"
   ]
  },
  {
   "cell_type": "code",
   "execution_count": 63,
   "id": "553a6cd5-4dda-48e6-9504-48cbebe023ee",
   "metadata": {},
   "outputs": [],
   "source": [
    "# model.dump_artm_model(f'model/{model_name}')"
   ]
  },
  {
   "cell_type": "code",
   "execution_count": 64,
   "id": "8c31108a-c9cd-45c2-8907-49a112b0ed62",
   "metadata": {},
   "outputs": [
    {
     "data": {
      "image/png": "[encoded data removed]",
      "text/plain": [
       "<Figure size 640x480 with 1 Axes>"
      ]
     },
     "metadata": {},
     "output_type": "display_data"
    }
   ],
   "source": [
    "show_model_metric(model, 'perplexity')"
   ]
  },
  {
   "cell_type": "code",
   "execution_count": 65,
   "id": "b42d0a70-c18d-4e68-92ea-6101bddcfe44",
   "metadata": {},
   "outputs": [
    {
     "data": {
      "image/png": "[encoded data removed]",
      "text/plain": [
       "<Figure size 640x480 with 1 Axes>"
      ]
     },
     "metadata": {},
     "output_type": "display_data"
    }
   ],
   "source": [
    "show_model_metric(model, 'sparsity')"
   ]
  },
  {
   "cell_type": "code",
   "execution_count": 66,
   "id": "3e758180-3faf-4413-933c-77b100deab6b",
   "metadata": {},
   "outputs": [
    {
     "data": {
      "application/vnd.jupyter.widget-view+json": {
       "model_id": "bf46d9575b08487e8c8a7fa09b05053c",
       "version_major": 2,
       "version_minor": 0
      },
      "text/plain": [
       "  0%|          | 0/326899 [00:00<?, ?it/s]"
      ]
     },
     "metadata": {},
     "output_type": "display_data"
    },
    {
     "data": {
      "application/vnd.jupyter.widget-view+json": {
       "model_id": "fced297e87a847a69eac419d47568a8d",
       "version_major": 2,
       "version_minor": 0
      },
      "text/plain": [
       "  0%|          | 0/3281 [00:00<?, ?it/s]"
      ]
     },
     "metadata": {},
     "output_type": "display_data"
    }
   ],
   "source": [
    "report = estimate_model(model, bv_train, bv_test, y_train, y_valid)"
   ]
  },
  {
   "cell_type": "code",
   "execution_count": 67,
   "id": "58f6f2be-6ba6-4321-aea3-595d5f959efe",
   "metadata": {},
   "outputs": [
    {
     "name": "stdout",
     "output_type": "stream",
     "text": [
      "              precision    recall  f1-score   support\n",
      "\n",
      "        1999       0.20      0.20      0.20        10\n",
      "        2000       0.36      0.24      0.29        34\n",
      "        2001       0.65      0.60      0.62        62\n",
      "        2002       0.61      0.56      0.58        59\n",
      "        2003       0.66      0.61      0.63        74\n",
      "        2004       0.72      0.80      0.76        84\n",
      "        2005       0.54      0.58      0.56       113\n",
      "        2006       0.73      0.81      0.77       115\n",
      "        2007       0.75      0.75      0.75       131\n",
      "        2008       0.78      0.80      0.79       180\n",
      "        2009       0.81      0.86      0.84       204\n",
      "        2010       0.78      0.89      0.83       164\n",
      "        2011       0.88      0.89      0.88       198\n",
      "        2012       0.76      0.81      0.78       203\n",
      "        2013       0.85      0.82      0.83       187\n",
      "        2014       0.87      0.87      0.87       158\n",
      "        2015       0.91      0.86      0.89       199\n",
      "        2016       0.92      0.90      0.91       251\n",
      "        2017       0.86      0.83      0.85       222\n",
      "        2018       0.86      0.74      0.80       187\n",
      "        2019       0.89      0.90      0.90       218\n",
      "        2020       0.91      0.89      0.90       228\n",
      "\n",
      "    accuracy                           0.81      3281\n",
      "   macro avg       0.74      0.74      0.74      3281\n",
      "weighted avg       0.81      0.81      0.81      3281\n",
      "\n"
     ]
    }
   ],
   "source": [
    "print(report)"
   ]
  },
  {
   "cell_type": "code",
   "execution_count": null,
   "id": "1c713b02-943b-4393-9281-ce294779a26e",
   "metadata": {},
   "outputs": [],
   "source": []
  }
 ],
 "metadata": {
  "kernelspec": {
   "display_name": "Python 3 (ipykernel)",
   "language": "python",
   "name": "python3"
  },
  "language_info": {
   "codemirror_mode": {
    "name": "ipython",
    "version": 3
   },
   "file_extension": ".py",
   "mimetype": "text/x-python",
   "name": "python",
   "nbconvert_exporter": "python",
   "pygments_lexer": "ipython3",
   "version": "3.10.12"
  }
 },
 "nbformat": 4,
 "nbformat_minor": 5
}
